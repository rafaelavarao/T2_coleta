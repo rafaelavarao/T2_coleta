{
 "cells": [
  {
   "cell_type": "code",
   "execution_count": 8,
   "metadata": {},
   "outputs": [],
   "source": [
    "import requests"
   ]
  },
  {
   "attachments": {},
   "cell_type": "markdown",
   "metadata": {},
   "source": [
    "### Faz a leitura do arquivo"
   ]
  },
  {
   "attachments": {},
   "cell_type": "markdown",
   "metadata": {},
   "source": [
    "### Faz as operações de consulta, atualização, inserção e deleção"
   ]
  },
  {
   "cell_type": "code",
   "execution_count": 25,
   "metadata": {},
   "outputs": [
    {
     "name": "stdout",
     "output_type": "stream",
     "text": [
      "{\"message\": \"Internal Server Error\"}\n",
      "\n"
     ]
    }
   ],
   "source": [
    "response = requests.get('http://127.0.0.1:5000/game/2')\n",
    "print(response.content.decode())"
   ]
  },
  {
   "cell_type": "code",
   "execution_count": 26,
   "metadata": {},
   "outputs": [
    {
     "name": "stdout",
     "output_type": "stream",
     "text": [
      "{\"message\": \"The browser (or proxy) sent a request that this server could not understand.\"}\n",
      "\n"
     ]
    }
   ],
   "source": [
    "response = requests.post('http://127.0.0.1:5000/game') #ver se ta certo como eu chamo o arq games\n",
    "print(response.content.decode())"
   ]
  },
  {
   "cell_type": "code",
   "execution_count": null,
   "metadata": {},
   "outputs": [
    {
     "name": "stdout",
     "output_type": "stream",
     "text": [
      "\n"
     ]
    }
   ],
   "source": [
    "response = requests.put('http://127.0.0.1:5000/game')\n",
    "print(response.content.decode())"
   ]
  },
  {
   "cell_type": "code",
   "execution_count": 24,
   "metadata": {},
   "outputs": [
    {
     "name": "stdout",
     "output_type": "stream",
     "text": [
      "\n"
     ]
    }
   ],
   "source": [
    "response = requests.delete('http://127.0.0.1:5000/game/2')\n",
    "print(response.content.decode())"
   ]
  }
 ],
 "metadata": {
  "kernelspec": {
   "display_name": "apirest2",
   "language": "python",
   "name": "python3"
  },
  "language_info": {
   "codemirror_mode": {
    "name": "ipython",
    "version": 3
   },
   "file_extension": ".py",
   "mimetype": "text/x-python",
   "name": "python",
   "nbconvert_exporter": "python",
   "pygments_lexer": "ipython3",
   "version": "3.11.2"
  },
  "orig_nbformat": 4,
  "vscode": {
   "interpreter": {
    "hash": "b9f105476074cff4fb5ca51b5c38189206cc73f8e8f019cbae1f4bf3ce0e3ca0"
   }
  }
 },
 "nbformat": 4,
 "nbformat_minor": 2
}
