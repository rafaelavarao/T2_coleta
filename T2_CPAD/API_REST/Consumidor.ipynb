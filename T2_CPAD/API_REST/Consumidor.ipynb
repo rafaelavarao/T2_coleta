{
 "cells": [
  {
   "cell_type": "code",
   "execution_count": null,
   "metadata": {},
   "outputs": [],
   "source": [
    "import requests"
   ]
  },
  {
   "cell_type": "code",
   "execution_count": null,
   "metadata": {},
   "outputs": [],
   "source": []
  }
 ],
 "metadata": {
  "kernelspec": {
   "display_name": "apirest2",
   "language": "python",
   "name": "python3"
  },
  "language_info": {
   "name": "python",
   "version": "3.11.2"
  },
  "orig_nbformat": 4,
  "vscode": {
   "interpreter": {
    "hash": "b9f105476074cff4fb5ca51b5c38189206cc73f8e8f019cbae1f4bf3ce0e3ca0"
   }
  }
 },
 "nbformat": 4,
 "nbformat_minor": 2
}
