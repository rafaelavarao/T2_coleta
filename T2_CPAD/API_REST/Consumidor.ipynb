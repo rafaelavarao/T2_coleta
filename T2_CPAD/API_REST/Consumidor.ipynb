{
 "cells": [
  {
   "cell_type": "code",
   "execution_count": 38,
   "metadata": {},
   "outputs": [],
   "source": [
    "import requests"
   ]
  },
  {
   "attachments": {},
   "cell_type": "markdown",
   "metadata": {},
   "source": [
    "## Faz a operação de consulta."
   ]
  },
  {
   "cell_type": "code",
   "execution_count": 39,
   "metadata": {},
   "outputs": [
    {
     "name": "stdout",
     "output_type": "stream",
     "text": [
      "\"{\\\"Title\\\": \\\"The Legend of Zelda: Breath of the Wild\\\", \\\"Release Date\\\": \\\"Mar 03, 2017\\\", \\\"Team\\\": \\\"['Nintendo', 'Nintendo EPD Production Group No. 3']\\\", \\\"Rating\\\": 4.4, \\\"Times Listed\\\": \\\"4.3K\\\", \\\"Number of Reviews\\\": \\\"4.3K\\\", \\\"Genres\\\": \\\"['Adventure', 'RPG']\\\", \\\"Summary\\\": \\\"The Legend of Zelda: Breath of the Wild is the first 3D open-world game in the Zelda series. Link can travel anywhere and be equipped with weapons and armor found throughout the world to grant him various bonuses. Unlike many games in the series, Breath of the Wild does not impose a specific order in which quests or dungeons must be completed. While the game still has environmental obstacles such as weather effects, inhospitable lands, or powerful enemies, many of them can be overcome using the right method. A lot of critics ranked Breath of the Wild as one of the best video games of all time.\\\", \\\"Reviews\\\": \\\"['This game is the game (that is not CS:GO) that I have played the most ever. I have played this game for 400 hours.', \\\\\\\"A really good switch game, however didn't really grip me like mario odyssey\\\\\\\", \\\\\\\"i was very disappointed by the final boss fight, but the rest of the game is so good it makes me not want to even do the final boss fight anyway just so i can play more of the game. i do wish that there were more unique mechanics in combat besides just parrying and link's flurry rush, but the world is really pretty and actually incentivizes exploring it. characters are great, story is great and makes you work for it, and there's tons of hidden secrets and details.\\\\\\\", 'em 105 horas de jogo n\\\\u00e3o houve um segundo que eu n\\\\u00e3o tava me divertindo e eu acho que isso diz muito', 'Sencillamente el mejor juego que he tenido el placer de disfrutar, esper\\\\u00e9 5 a\\\\u00f1os para poder jugarlo y puedo decir que vali\\\\u00f3 cada segundo la espera. No estoy ni cerca de conseguir el 100%, tengo mas de 100 horas y a\\\\u00fan estoy descubriendo cosas nuevas. Va m\\\\u00e1s all\\\\u00e1 de un simple juego, es una experiencia que lamentablemente solo se puede vivir una vez en la vida y la recomiendo totalmente.', 'em meio a tanto jogo de mundo aberto ruim saindo por a\\\\u00ed na \\\\u00faltima d\\\\u00e9cada, acho que da pra entender porque breath of the wild chocou tanto as pessoas no ano em que ele lan\\\\u00e7ou. E realmente eu acho que \\\\u00e9 o melhor mundo aberto que eu j\\\\u00e1 joguei at\\\\u00e9 hoje, explorar cada pedacinho desse mundo \\\\u00e9 T\\\\u00c3O GOSTOSO, parece que tudo aqui t\\\\u00e1 no mapa tem um prop\\\\u00f3sito para estar l\\\\u00e1, diferente dos mapas vazios da ubisoft por exemplo. Acho que o unico defeito \\\\u00e9 esses sistema chatinho de durabilidade das armas, ficar trocando de arma o tempo todo \\\\u00e9 t\\\\u00e3o chato, espero que no pr\\\\u00f3ximo n\\\\u00e3o tenha.']\\\", \\\"Plays\\\": \\\"30K\\\", \\\"Playing\\\": \\\"2.5K\\\", \\\"Backlogs\\\": \\\"5K\\\", \\\"Wishlist\\\": \\\"2.6K\\\"}\"\n",
      "\n"
     ]
    }
   ],
   "source": [
    "response = requests.get('http://127.0.0.1:5000/game/2')\n",
    "print(response.content.decode())"
   ]
  },
  {
   "attachments": {},
   "cell_type": "markdown",
   "metadata": {},
   "source": [
    "## Faz a operação de inserir um elemento."
   ]
  },
  {
   "cell_type": "code",
   "execution_count": 40,
   "metadata": {},
   "outputs": [
    {
     "data": {
      "text/plain": [
       "<Response [201]>"
      ]
     },
     "execution_count": 40,
     "metadata": {},
     "output_type": "execute_result"
    }
   ],
   "source": [
    "jogo_novo = {\n",
    "    \"Index\": 1512,\n",
    "    \"Title\": \"A incrível aventura de fulano e beltrano\",\n",
    "    \"Release Date\": \"Apr 24, 2023\",\n",
    "    \"Team\": \"['CPAD10', 'PUCRS']\",\n",
    "    \"Rating\": 4.9,\n",
    "    \"Times Listed\": 20314,\n",
    "    \"Number of Review\": \"10.2K\",\n",
    "    \"Genres\": \"['Adventure', 'RPG']\",\n",
    "    \"Summary\": \"Fulano e Beltrano têm uma aventura, que é incrível.\",\n",
    "    \"Reviews\": \"['Esse jogo é excelente, certamente os desenvolvedores merecem nota 10.']\",\n",
    "    \"Plays\": \"52K\",\n",
    "    \"Playing\": \"38.9K\",\n",
    "    \"Backlogs\": \"5K\",\n",
    "    \"Wishlist\": \"3.8K\"\n",
    "}\n",
    "requests.post('http://127.0.0.1:5000/game', json = jogo_novo)\n"
   ]
  },
  {
   "attachments": {},
   "cell_type": "markdown",
   "metadata": {},
   "source": [
    "## Faz a operação de atualizar um elemento."
   ]
  },
  {
   "cell_type": "code",
   "execution_count": 41,
   "metadata": {},
   "outputs": [
    {
     "data": {
      "text/plain": [
       "<Response [201]>"
      ]
     },
     "execution_count": 41,
     "metadata": {},
     "output_type": "execute_result"
    }
   ],
   "source": [
    "nome_novo ={\n",
    "    \"Title\": \"A excepcional aventura de fulano e beltrano\"\n",
    "}\n",
    "requests.put('http://127.0.0.1:5000/game/1512', json= nome_novo)\n"
   ]
  },
  {
   "attachments": {},
   "cell_type": "markdown",
   "metadata": {},
   "source": [
    "## Faz a operação de deletar um elemento."
   ]
  },
  {
   "cell_type": "code",
   "execution_count": 42,
   "metadata": {},
   "outputs": [
    {
     "name": "stdout",
     "output_type": "stream",
     "text": [
      "\n"
     ]
    }
   ],
   "source": [
    "response = requests.delete('http://127.0.0.1:5000/game/2')\n",
    "print(response.content.decode())"
   ]
  }
 ],
 "metadata": {
  "kernelspec": {
   "display_name": "apirest2",
   "language": "python",
   "name": "python3"
  },
  "language_info": {
   "codemirror_mode": {
    "name": "ipython",
    "version": 3
   },
   "file_extension": ".py",
   "mimetype": "text/x-python",
   "name": "python",
   "nbconvert_exporter": "python",
   "pygments_lexer": "ipython3",
   "version": "3.11.2"
  },
  "orig_nbformat": 4,
  "vscode": {
   "interpreter": {
    "hash": "b9f105476074cff4fb5ca51b5c38189206cc73f8e8f019cbae1f4bf3ce0e3ca0"
   }
  }
 },
 "nbformat": 4,
 "nbformat_minor": 2
}
